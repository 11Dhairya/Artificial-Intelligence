{
 "cells": [
  {
   "cell_type": "code",
   "execution_count": 2,
   "id": "3a809628",
   "metadata": {},
   "outputs": [],
   "source": [
    "import math\n",
    "import random"
   ]
  },
  {
   "cell_type": "code",
   "execution_count": null,
   "id": "5b7f4f6f",
   "metadata": {},
   "outputs": [],
   "source": [
    "# network neurons\n",
    "no_input_neurons = 2\n",
    "no_output_neurons = 2\n",
    "no_hidden_neurons = 2\n",
    "\n",
    "# learning rate\n",
    "neta = 0.5"
   ]
  },
  {
   "cell_type": "code",
   "execution_count": null,
   "id": "9f047e40",
   "metadata": {},
   "outputs": [],
   "source": [
    "# inputs \n",
    "x1 = 1\n",
    "x2 = 0.5\n",
    "\n",
    "# targets \n",
    "t1 = 0.8\n",
    "t2 = 0.5\n",
    "target = [t1, t2]"
   ]
  },
  {
   "cell_type": "code",
   "execution_count": null,
   "id": "a0347d98",
   "metadata": {},
   "outputs": [],
   "source": [
    "# initialise weights \n",
    "weights = []\n",
    "bias = []\n",
    "\n",
    "weights_bar = []\n",
    "bias_bar = []\n",
    "\n",
    "for i in range(4):\n",
    "    weights.append(round(random.uniform(0.00,1.00), 2))\n",
    "    weights_bar.append(round(random.uniform(0.00,1.00), 2))\n",
    "    \n",
    "for i in range(2):\n",
    "    bias.append(round(random.uniform(0.00,1.00), 2))\n",
    "    bias_bar.append(round(random.uniform(0.00,1.00), 2))"
   ]
  },
  {
   "cell_type": "code",
   "execution_count": 18,
   "id": "4d93a214",
   "metadata": {},
   "outputs": [],
   "source": [
    "# loss function\n",
    "def loss(predicted):\n",
    "    loss = 0\n",
    "    for i in range(len(target)):\n",
    "        loss += (target[i]-pred[i])**2\n",
    "    \n",
    "    res = loss/len(target)\n",
    "    return res"
   ]
  },
  {
   "cell_type": "code",
   "execution_count": 19,
   "id": "9ed31f95",
   "metadata": {},
   "outputs": [],
   "source": [
    "# activation function\n",
    "def tanh(arg):\n",
    "    res = (math.e**arg - math.e**(-arg)) / (math.e**arg + math.e**(-arg))\n",
    "    return res"
   ]
  },
  {
   "cell_type": "code",
   "execution_count": null,
   "id": "fde18d4b",
   "metadata": {},
   "outputs": [],
   "source": [
    "# variables\n",
    "\n",
    "h = [0,0]\n",
    "H = [0,0]\n",
    "Y = [0,0]\n",
    "y = [0,0]\n",
    "\n",
    "w = [0,0,0,0]\n",
    "w_d = [0,0,0,0]\n",
    "b = [0,0]\n",
    "b_d = [0,0]"
   ]
  },
  {
   "cell_type": "code",
   "execution_count": null,
   "id": "cb88cac0",
   "metadata": {},
   "outputs": [],
   "source": [
    "# Phase 1: Feed Foward\n",
    "predicted = []\n",
    "\n",
    "for it in range(10):\n",
    "    pass\n",
    "\n",
    "\n",
    "# h input\n",
    "h1 = x1*weights[0] + x2*weights[2] + bias[0]\n",
    "h2 = x1*weights[1] + x2*weights[3] + bias[1]\n",
    "\n",
    "h[0] = h1\n",
    "h[1] = h2\n",
    "\n",
    "# h output\n",
    "H1 = tanh(h1)\n",
    "H2 = tanh(h2)\n",
    "\n",
    "H.[0] = H1\n",
    "H.[1] = H2\n",
    "\n",
    "\n",
    "# y input\n",
    "Y1 = h1_out*weights_bar[0] + h2_out*weights_bar[2] + bias_bar[0]\n",
    "Y2 = h1_out*weights_bar[1] + h2_out*weights_bar[3] + bias_bar[1]\n",
    "\n",
    "Y[0] = Y1\n",
    "Y[1] = Y2\n",
    "\n",
    "# y output\n",
    "y1 = tanh(Y1)\n",
    "y2 = tanh(Y2)\n",
    "\n",
    "y.[0] = y1\n",
    "y.[1] = y2\n",
    "\n",
    "predicted = y\n",
    "\n",
    "loss = loss(predicted)\n",
    "\n",
    "# Phase 2: Weight Updation\n",
    "t = target \n",
    "\n",
    "delta_d_11 = 2 * (y[0] - t[0]) * (1 - y[0]**2) * H[0]\n",
    "delta_d_12 = 2 * (y[0] - t[0]) * (1 - y[0]**2) * H[0]\n",
    "delta_d_21 = 2 * (y[0] - t[0]) * (1 - y[0]**2) * H[0]\n",
    "delta_d_22 = 2 * (y[3] - t[3]) * (1 - y[3]**2) * H[3]\n",
    "\n",
    "w_d[0] = weights_bar[0] - neta*delta_d_11"
   ]
  },
  {
   "cell_type": "code",
   "execution_count": null,
   "id": "432704be",
   "metadata": {},
   "outputs": [],
   "source": [
    "\n"
   ]
  },
  {
   "cell_type": "code",
   "execution_count": 17,
   "id": "9acb345d",
   "metadata": {},
   "outputs": [
    {
     "data": {
      "text/plain": [
       "1.0"
      ]
     },
     "execution_count": 17,
     "metadata": {},
     "output_type": "execute_result"
    }
   ],
   "source": [
    "math.e**0"
   ]
  },
  {
   "cell_type": "code",
   "execution_count": 27,
   "id": "36d54801",
   "metadata": {},
   "outputs": [
    {
     "name": "stdout",
     "output_type": "stream",
     "text": [
      "Updated weights between input and hidden layer:\n",
      "[[ 0.48475654  0.49237827]\n",
      " [-0.44089995 -0.47044998]]\n",
      "Updated weights between hidden and output layer:\n",
      "[[ 0.219547    0.080453  ]\n",
      " [ 0.32947603 -0.62947603]]\n"
     ]
    }
   ],
   "source": [
    "import numpy as np\n",
    "\n",
    "# Set initial weights\n",
    "\n",
    "# weights between input and hidden layer\n",
    "w_ih = np.array([[0.5, 0.5], [-0.5, -0.5]]) \n",
    "\n",
    "# weights between hidden and output layer\n",
    "w_ho = np.array([[-0.1, 0.4], [0.3, -0.6]])  \n",
    "\n",
    "# Set learning rate\n",
    "neta = 0.5\n",
    "\n",
    "# Define input and target output\n",
    "x = np.array([1, 0.5])\n",
    "t = np.array([0.8, 0.5])\n",
    "\n",
    "# Feed Foward\n",
    "\n",
    "# hidden layer output\n",
    "h = np.tanh(np.dot(w_ih, x) + np.array([0.1, -0.1])) \n",
    "# output layer output\n",
    "y = np.tanh(np.dot(w_ho, h) + np.array([0.2, -0.2]))  \n",
    "\n",
    "# Feed Back\n",
    "\n",
    "# output layer error\n",
    "delta_o = (t - y) * (1 - y ** 2) \n",
    "# hidden layer error\n",
    "delta_h = (1 - h ** 2) * np.dot(delta_o, w_ho.T)  \n",
    "\n",
    "# Update weights\n",
    "\n",
    "# update weights between hidden and output layer\n",
    "w_ho += neta * np.outer(delta_o, h)\n",
    "# update weights between input and hidden layer\n",
    "w_ih += neta * np.outer(delta_h, x)  \n",
    "\n",
    "\n",
    "# print(np.dot(w_ih, x) + np.array([0.1, -0.1]))\n",
    "# print(h)\n",
    "\n",
    "# print(np.dot(w_ho, h) + np.array([0.2, -0.2]))\n",
    "# print(y)\n",
    "print(\"Updated weights between input and hidden layer:\")\n",
    "print(w_ih)\n",
    "print(\"Updated weights between hidden and output layer:\")\n",
    "print(w_ho)\n",
    "# print(delta_o)\n",
    "# print(delta_h)\n",
    "\n",
    "\n",
    "\n",
    "\n",
    "\n",
    "# Print updated weights\n",
    "\n"
   ]
  },
  {
   "cell_type": "code",
   "execution_count": null,
   "id": "9bed439e",
   "metadata": {},
   "outputs": [],
   "source": [
    "for i in range(1):\n",
    "    # Feed Foward\n",
    "    h = np.tanh(np.dot(w_ih, x) + np.array([0.1, -0.1]))\n",
    "    y = np.tanh(np.dot(w_ho, h) + np.array([0.2, -0.2]))\n",
    "\n",
    "    # Feed Back\n",
    "    delta_o = (t - y) * (1 - y ** 2)\n",
    "    delta_h = (1 - h ** 2) * np.dot(delta_o, w_ho.T)\n",
    "\n",
    "    # Update weights\n",
    "    w_ho += neta * np.outer(delta_o, h)\n",
    "    w_ih += neta * np.outer(delta_h, x)"
   ]
  }
 ],
 "metadata": {
  "kernelspec": {
   "display_name": "Python 3 (ipykernel)",
   "language": "python",
   "name": "python3"
  },
  "language_info": {
   "codemirror_mode": {
    "name": "ipython",
    "version": 3
   },
   "file_extension": ".py",
   "mimetype": "text/x-python",
   "name": "python",
   "nbconvert_exporter": "python",
   "pygments_lexer": "ipython3",
   "version": "3.8.10"
  }
 },
 "nbformat": 4,
 "nbformat_minor": 5
}
