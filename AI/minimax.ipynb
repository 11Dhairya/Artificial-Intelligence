{
 "cells": [
  {
   "cell_type": "code",
   "execution_count": 1,
   "id": "6766e03a",
   "metadata": {},
   "outputs": [
    {
     "name": "stdout",
     "output_type": "stream",
     "text": [
      "Min wins!\n"
     ]
    }
   ],
   "source": [
    "# Q1. There is sack with red and blue socks. Consider a turn taking game of socks pairing. First player Max will take out a sock from a sack then\n",
    "# player will take out next sock. If the color of both the socks is same, then player Max will win with utility +1 else it Min will win and a utility\n",
    "# of -1 will be assigned to Max. Write a code to implement MINIMAX algorithm for the game. Also apply alpha-beta pruning to reduce the\n",
    "# game tree.\n",
    "\n",
    "import math\n",
    "\n",
    "def minimax(alpha, beta, isMax, red_count, blue_count):\n",
    "    if red_count + blue_count == 0:\n",
    "        return 0\n",
    "    \n",
    "    if isMax:\n",
    "        best_score = -math.inf\n",
    "        for i in range(2):\n",
    "            if i == 0 and red_count > 0:\n",
    "                score = minimax(alpha, beta, not isMax, red_count - 1, blue_count)\n",
    "                best_score = max(best_score, score)\n",
    "                alpha = max(alpha, score)\n",
    "                if beta <= alpha:\n",
    "                    break\n",
    "            elif i == 1 and blue_count > 0:\n",
    "                score = minimax(alpha, beta, not isMax, red_count, blue_count - 1)\n",
    "                best_score = max(best_score, score)\n",
    "                alpha = max(alpha, score)\n",
    "                if beta <= alpha:\n",
    "                    break\n",
    "        return best_score\n",
    "    \n",
    "    else:\n",
    "        best_score = math.inf\n",
    "        for i in range(2):\n",
    "            if i == 0 and red_count > 0:\n",
    "                score = minimax(alpha, beta, not isMax, red_count - 1, blue_count)\n",
    "                best_score = min(best_score, score)\n",
    "                beta = min(beta, score)\n",
    "                if beta <= alpha:\n",
    "                    break\n",
    "            elif i == 1 and blue_count > 0:\n",
    "                score = minimax(alpha, beta, not isMax, red_count, blue_count - 1)\n",
    "                best_score = min(best_score, score)\n",
    "                beta = min(beta, score)\n",
    "                if beta <= alpha:\n",
    "                    break\n",
    "        return best_score\n",
    "\n",
    "# driver code\n",
    "red_count = 3\n",
    "blue_count = 2\n",
    "\n",
    "result = minimax(-math.inf, math.inf, True, red_count, blue_count)\n",
    "\n",
    "if result == 1:\n",
    "    print(\"Max wins!\")\n",
    "else:\n",
    "    print(\"Min wins!\")\n"
   ]
  },
  {
   "cell_type": "code",
   "execution_count": null,
   "id": "f5b16358",
   "metadata": {},
   "outputs": [],
   "source": [
    "'''\n",
    "Represent the following statements and rules in prolog and answer the queries.\n",
    "Neo is an engineer\n",
    "Neo has black pen\n",
    "Rao is a doctor\n",
    "Rao has white pen\n",
    "if someone is engineer and he has black pen then he is a professional\n",
    "If someone is a professional, he loves his profession.\n",
    "Doctors are hardworking\n",
    "Doctors are professionals\n",
    "1. List all engineers.\n",
    "2. Who loves what?\n",
    "3. Does Neo love to be engineer?\n",
    "4. List all the professionals\n",
    "5. Does Rao love to be engineer?\n",
    "6. Does Rao love to be doctor?\n",
    "'''\n",
    "\n"
   ]
  }
 ],
 "metadata": {
  "kernelspec": {
   "display_name": "Python 3 (ipykernel)",
   "language": "python",
   "name": "python3"
  },
  "language_info": {
   "codemirror_mode": {
    "name": "ipython",
    "version": 3
   },
   "file_extension": ".py",
   "mimetype": "text/x-python",
   "name": "python",
   "nbconvert_exporter": "python",
   "pygments_lexer": "ipython3",
   "version": "3.8.10"
  }
 },
 "nbformat": 4,
 "nbformat_minor": 5
}
