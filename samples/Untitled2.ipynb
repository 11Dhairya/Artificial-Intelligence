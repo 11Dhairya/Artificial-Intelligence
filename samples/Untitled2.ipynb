{
 "cells": [
  {
   "cell_type": "code",
   "execution_count": 30,
   "metadata": {},
   "outputs": [
    {
     "name": "stdout",
     "output_type": "stream",
     "text": [
      "<class 'int'>\n"
     ]
    }
   ],
   "source": [
    "# graph for TSP\n",
    "# element representation: KEY-> node1 value -> [\"node2\", weight from node1 to node2]\n",
    "# char : [char, int]\n",
    "import math\n",
    "\n",
    "graph = {\n",
    "    \"a\" : [[\"b\", 12], [\"c\", 10], [\"g\", 12]],\n",
    "    \"b\" : [[\"a\", 12], [\"c\", 8], [\"d\", 12]],\n",
    "    \"c\" : [[\"a\", 10], [\"b\", 8], [\"d\", 11], [\"e\", 3], [\"g\", 9]],\n",
    "    \"d\" : [[\"b\", 12], [\"c\", 11], [\"e\", 11], [\"f\", 10]],\n",
    "    \"e\" : [[\"c\", 3], [\"d\", 11], [\"f\", 6], [\"g\", 7]],\n",
    "    \"f\" : [[\"d\", 10], [\"e\", 6], [\"g\", 9]],\n",
    "    \"g\" : [[\"a\", 12], [\"c\", 9], [\"e\", 7], [\"f\", 9]]\n",
    "}\n",
    "a = graph.get(\"a\")[][1]\n",
    "print(type(a))"
   ]
  },
  {
   "cell_type": "code",
   "execution_count": 24,
   "metadata": {},
   "outputs": [],
   "source": [
    "# chromosome -> [ABCDEFGA]\n",
    "chromosome_size = 8\n",
    "initial_pop_size = 4\n",
    "start_node = \"a\"\n"
   ]
  },
  {
   "cell_type": "code",
   "execution_count": 25,
   "metadata": {},
   "outputs": [],
   "source": [
    "def initialise_pop():\n",
    "    initial_pop = [\"abcdefga\", \"agcefdba\", \"acbdfega\", \"agefdcba\"]\n",
    "    \n",
    "    for i in initial_pop:\n",
    "        if (len(i) != chromosome_size) or (i[0] != i[-1] != start_node):\n",
    "            print(\"Chromosome\", initial_pop.index(i), \"is not a Solution!\")\n",
    "            return (\"Error\")\n",
    "        for j in [\"a\",\"b\",\"c\",\"d\",\"e\",\"f\",\"g\"]:\n",
    "            if j not in i:\n",
    "                print(\"Chromosome\", initial_pop.index(i), \"is not a Solution!\")\n",
    "                return (\"Error\")\n",
    "            \n",
    "    return initial_pop"
   ]
  },
  {
   "cell_type": "code",
   "execution_count": 37,
   "metadata": {},
   "outputs": [],
   "source": [
    "def calc_path_cost(path):\n",
    "    path_cost = 0\n",
    "    for i in range(1, len(path)):\n",
    "        if i < len(path):\n",
    "            if graph.get(path[i-1])[0] != None:\n",
    "                path_cost += graph.get(path[i-1])[i][1]\n",
    "            else:\n",
    "                path_cost += math.inf\n",
    "    return path_cost\n",
    "    \n",
    "def fitness_comp(initial_pop):\n",
    "    fitness = []\n",
    "    \n",
    "    for i in initial_pop:\n",
    "        fx = calc_path_cost(i)\n",
    "        fitness_value = 1/(1+fx)\n",
    "        fitness.append(fitness_value)\n",
    "    \n",
    "    return fitness"
   ]
  },
  {
   "cell_type": "code",
   "execution_count": null,
   "metadata": {},
   "outputs": [],
   "source": [
    "def selection():\n",
    "    pass\n",
    "\n",
    "def crossover():\n",
    "    pass\n",
    "\n",
    "def mutation():\n",
    "    pass"
   ]
  },
  {
   "cell_type": "code",
   "execution_count": 38,
   "metadata": {},
   "outputs": [
    {
     "name": "stdout",
     "output_type": "stream",
     "text": [
      "['abcdefga', 'agcefdba', 'acbdfega', 'agefdcba']\n"
     ]
    },
    {
     "ename": "IndexError",
     "evalue": "list index out of range",
     "output_type": "error",
     "traceback": [
      "\u001b[1;31m---------------------------------------------------------------------------\u001b[0m",
      "\u001b[1;31mIndexError\u001b[0m                                Traceback (most recent call last)",
      "\u001b[1;32m<ipython-input-38-344fc55876e5>\u001b[0m in \u001b[0;36m<module>\u001b[1;34m\u001b[0m\n\u001b[0;32m      1\u001b[0m \u001b[0minitial_pop\u001b[0m \u001b[1;33m=\u001b[0m \u001b[0minitialise_pop\u001b[0m\u001b[1;33m(\u001b[0m\u001b[1;33m)\u001b[0m\u001b[1;33m\u001b[0m\u001b[1;33m\u001b[0m\u001b[0m\n\u001b[0;32m      2\u001b[0m \u001b[0mprint\u001b[0m\u001b[1;33m(\u001b[0m\u001b[0minitial_pop\u001b[0m\u001b[1;33m)\u001b[0m\u001b[1;33m\u001b[0m\u001b[1;33m\u001b[0m\u001b[0m\n\u001b[1;32m----> 3\u001b[1;33m \u001b[0mprint\u001b[0m\u001b[1;33m(\u001b[0m\u001b[0mfitness_comp\u001b[0m\u001b[1;33m(\u001b[0m\u001b[0minitial_pop\u001b[0m\u001b[1;33m)\u001b[0m\u001b[1;33m)\u001b[0m\u001b[1;33m\u001b[0m\u001b[1;33m\u001b[0m\u001b[0m\n\u001b[0m",
      "\u001b[1;32m<ipython-input-37-7f297db5d7c9>\u001b[0m in \u001b[0;36mfitness_comp\u001b[1;34m(initial_pop)\u001b[0m\n\u001b[0;32m     13\u001b[0m \u001b[1;33m\u001b[0m\u001b[0m\n\u001b[0;32m     14\u001b[0m     \u001b[1;32mfor\u001b[0m \u001b[0mi\u001b[0m \u001b[1;32min\u001b[0m \u001b[0minitial_pop\u001b[0m\u001b[1;33m:\u001b[0m\u001b[1;33m\u001b[0m\u001b[1;33m\u001b[0m\u001b[0m\n\u001b[1;32m---> 15\u001b[1;33m         \u001b[0mfx\u001b[0m \u001b[1;33m=\u001b[0m \u001b[0mcalc_path_cost\u001b[0m\u001b[1;33m(\u001b[0m\u001b[0mi\u001b[0m\u001b[1;33m)\u001b[0m\u001b[1;33m\u001b[0m\u001b[1;33m\u001b[0m\u001b[0m\n\u001b[0m\u001b[0;32m     16\u001b[0m         \u001b[0mfitness_value\u001b[0m \u001b[1;33m=\u001b[0m \u001b[1;36m1\u001b[0m\u001b[1;33m/\u001b[0m\u001b[1;33m(\u001b[0m\u001b[1;36m1\u001b[0m\u001b[1;33m+\u001b[0m\u001b[0mfx\u001b[0m\u001b[1;33m)\u001b[0m\u001b[1;33m\u001b[0m\u001b[1;33m\u001b[0m\u001b[0m\n\u001b[0;32m     17\u001b[0m         \u001b[0mfitness\u001b[0m\u001b[1;33m.\u001b[0m\u001b[0mappend\u001b[0m\u001b[1;33m(\u001b[0m\u001b[0mfitness_value\u001b[0m\u001b[1;33m)\u001b[0m\u001b[1;33m\u001b[0m\u001b[1;33m\u001b[0m\u001b[0m\n",
      "\u001b[1;32m<ipython-input-37-7f297db5d7c9>\u001b[0m in \u001b[0;36mcalc_path_cost\u001b[1;34m(path)\u001b[0m\n\u001b[0;32m      3\u001b[0m     \u001b[1;32mfor\u001b[0m \u001b[0mi\u001b[0m \u001b[1;32min\u001b[0m \u001b[0mrange\u001b[0m\u001b[1;33m(\u001b[0m\u001b[1;36m1\u001b[0m\u001b[1;33m,\u001b[0m \u001b[0mlen\u001b[0m\u001b[1;33m(\u001b[0m\u001b[0mpath\u001b[0m\u001b[1;33m)\u001b[0m\u001b[1;33m)\u001b[0m\u001b[1;33m:\u001b[0m\u001b[1;33m\u001b[0m\u001b[1;33m\u001b[0m\u001b[0m\n\u001b[0;32m      4\u001b[0m         \u001b[1;32mif\u001b[0m \u001b[0mi\u001b[0m \u001b[1;33m<\u001b[0m \u001b[0mlen\u001b[0m\u001b[1;33m(\u001b[0m\u001b[0mpath\u001b[0m\u001b[1;33m)\u001b[0m\u001b[1;33m:\u001b[0m\u001b[1;33m\u001b[0m\u001b[1;33m\u001b[0m\u001b[0m\n\u001b[1;32m----> 5\u001b[1;33m             \u001b[1;32mif\u001b[0m \u001b[0mgraph\u001b[0m\u001b[1;33m.\u001b[0m\u001b[0mget\u001b[0m\u001b[1;33m(\u001b[0m\u001b[0mpath\u001b[0m\u001b[1;33m[\u001b[0m\u001b[0mi\u001b[0m\u001b[1;33m-\u001b[0m\u001b[1;36m1\u001b[0m\u001b[1;33m]\u001b[0m\u001b[1;33m)\u001b[0m\u001b[1;33m[\u001b[0m\u001b[0mi\u001b[0m\u001b[1;33m]\u001b[0m \u001b[1;33m!=\u001b[0m \u001b[1;32mNone\u001b[0m\u001b[1;33m:\u001b[0m\u001b[1;33m\u001b[0m\u001b[1;33m\u001b[0m\u001b[0m\n\u001b[0m\u001b[0;32m      6\u001b[0m                 \u001b[0mpath_cost\u001b[0m \u001b[1;33m+=\u001b[0m \u001b[0mgraph\u001b[0m\u001b[1;33m.\u001b[0m\u001b[0mget\u001b[0m\u001b[1;33m(\u001b[0m\u001b[0mpath\u001b[0m\u001b[1;33m[\u001b[0m\u001b[0mi\u001b[0m\u001b[1;33m-\u001b[0m\u001b[1;36m1\u001b[0m\u001b[1;33m]\u001b[0m\u001b[1;33m)\u001b[0m\u001b[1;33m[\u001b[0m\u001b[0mi\u001b[0m\u001b[1;33m]\u001b[0m\u001b[1;33m[\u001b[0m\u001b[1;36m1\u001b[0m\u001b[1;33m]\u001b[0m\u001b[1;33m\u001b[0m\u001b[1;33m\u001b[0m\u001b[0m\n\u001b[0;32m      7\u001b[0m             \u001b[1;32melse\u001b[0m\u001b[1;33m:\u001b[0m\u001b[1;33m\u001b[0m\u001b[1;33m\u001b[0m\u001b[0m\n",
      "\u001b[1;31mIndexError\u001b[0m: list index out of range"
     ]
    }
   ],
   "source": [
    "initial_pop = initialise_pop()\n",
    "print(initial_pop)\n",
    "print(fitness_comp(initial_pop))"
   ]
  },
  {
   "cell_type": "code",
   "execution_count": null,
   "metadata": {},
   "outputs": [],
   "source": []
  }
 ],
 "metadata": {
  "kernelspec": {
   "display_name": "Python 3",
   "language": "python",
   "name": "python3"
  },
  "language_info": {
   "codemirror_mode": {
    "name": "ipython",
    "version": 3
   },
   "file_extension": ".py",
   "mimetype": "text/x-python",
   "name": "python",
   "nbconvert_exporter": "python",
   "pygments_lexer": "ipython3",
   "version": "3.7.3"
  }
 },
 "nbformat": 4,
 "nbformat_minor": 2
}
