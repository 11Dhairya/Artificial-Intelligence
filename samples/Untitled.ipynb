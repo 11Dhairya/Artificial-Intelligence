{
 "cells": [
  {
   "cell_type": "code",
   "execution_count": 74,
   "metadata": {},
   "outputs": [],
   "source": [
    "class TTT_Board:\n",
    "    board = []\n",
    "    def __init__(self):\n",
    "        self.board = [[\"#\",\"#\",\"#\"],\n",
    "                      [\"#\",\"#\",\"#\"],\n",
    "                      [\"#\",\"#\",\"#\"]]\n",
    "            \n",
    "    def __str__(self):\n",
    "        strboard = \"\"\n",
    "        for i in self.board:\n",
    "            for j in i:\n",
    "                strboard += j\n",
    "        return strboard\n",
    "    \n",
    "    def makeMove(self, player, pos):\n",
    "        i = pos // 3\n",
    "        j = pos % 3\n",
    "        if pos < 0 or pos > 8:\n",
    "            return False\n",
    "        if self.board[i][j] == \"X\" or self.board[i][j] == \"O\":\n",
    "            return False\n",
    "        self.board[i][j] = self.board[i][j].replace(\"#\", player, 1)\n",
    "        return True\n",
    "    \n",
    "    def hasWon(self,player):\n",
    "        # win case [\"X\", \"X\", \"X\"]\n",
    "        win = []\n",
    "        for i in range(3):\n",
    "            win.append(player)\n",
    "        \n",
    "        # rows\n",
    "        for i in self.board:\n",
    "            if i == win:\n",
    "                return True\n",
    "        \n",
    "        # columns\n",
    "        for i in range(len(self.board)):\n",
    "            trywin = []\n",
    "            for j in range(len(self.board)):\n",
    "                trywin.append(self.board[j][i])\n",
    "            if trywin == win:\n",
    "                return True\n",
    "            else: trywin.clear()\n",
    "        \n",
    "        # diagnols\n",
    "        for i in range(len(self.board)):\n",
    "            trywin, trywin1 = [], []\n",
    "            for j in range(len(self.board)):\n",
    "                if i == j:\n",
    "                    trywin.append(self.board[i][j])\n",
    "                if i+j == 2:\n",
    "                    trywin1.append(self.board[i][j])\n",
    "            if trywin == win or trywin1 == win:\n",
    "                return True\n",
    "            else: \n",
    "                trywin.clear()\n",
    "                trywin1.clear()\n",
    "                \n",
    "        return False\n",
    "    \n",
    "    def gameOver(self):\n",
    "        if hasWon(\"X\") or hasWon(\"O\"):\n",
    "            return True\n",
    "        else:\n",
    "            for\n",
    "            \n",
    "    \n",
    "    def clear(self):\n",
    "        pass"
   ]
  },
  {
   "cell_type": "code",
   "execution_count": 76,
   "metadata": {},
   "outputs": [
    {
     "name": "stdout",
     "output_type": "stream",
     "text": [
      "True\n",
      "True\n",
      "True\n",
      "[['X', 'X', 'X'], ['#', '#', '#'], ['#', '#', '#']]\n",
      "True\n"
     ]
    }
   ],
   "source": [
    "# main\n",
    "obj = TTT_Board()\n",
    "\n",
    "#  O or X --- 0 to 8\n",
    "print(obj.makeMove(\"X\", 0))\n",
    "print(obj.makeMove(\"X\", 2))\n",
    "print(obj.makeMove(\"X\", 1))\n",
    "print(obj.board)\n",
    "\n",
    "# O or X\n",
    "print(obj.hasWon(\"X\"))\n"
   ]
  },
  {
   "cell_type": "code",
   "execution_count": null,
   "metadata": {},
   "outputs": [],
   "source": []
  }
 ],
 "metadata": {
  "kernelspec": {
   "display_name": "Python 3",
   "language": "python",
   "name": "python3"
  },
  "language_info": {
   "codemirror_mode": {
    "name": "ipython",
    "version": 3
   },
   "file_extension": ".py",
   "mimetype": "text/x-python",
   "name": "python",
   "nbconvert_exporter": "python",
   "pygments_lexer": "ipython3",
   "version": "3.7.3"
  }
 },
 "nbformat": 4,
 "nbformat_minor": 2
}
