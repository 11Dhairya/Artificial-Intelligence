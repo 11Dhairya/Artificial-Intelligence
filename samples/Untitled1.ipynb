{
 "cells": [
  {
   "cell_type": "code",
   "execution_count": 3,
   "metadata": {},
   "outputs": [],
   "source": [
    "import random\n",
    "\n",
    "final = [[1,2,3],\n",
    "         [8,0,4],\n",
    "         [7,6,5]]\n",
    "\n",
    "puzzle = [[2,8,3],\n",
    "          [1,6,4],\n",
    "          [7,0,5]]\n",
    "\n",
    "def moves(puz):\n",
    "    pos_moves = []\n",
    "    for i in puz:\n",
    "        if 0 in i:\n",
    "            ind = puzzle.index(i)\n",
    "            j = i.index(0)\n",
    "    \n",
    "    l = len(puzzle)\n",
    "    if ind < l-1:\n",
    "        pos_moves.append(\"down\")\n",
    "    if ind > 0:\n",
    "        pos_moves.append(\"up\")\n",
    "    if j < l-1:\n",
    "        pos_moves.append(\"right\")\n",
    "    if j > 0:\n",
    "        pos_moves.append(\"left\")\n",
    "    \n",
    "    return pos_moves\n",
    "\n",
    "\n",
    "def soln(puz):\n",
    "    \n",
    "    if puz == final:\n",
    "        return puz\n",
    "    else:\n",
    "        poss_moves = moves(puz)\n",
    "        \n",
    "        \n",
    "\n",
    "soln(puzzle)\n",
    "\n",
    "            "
   ]
  },
  {
   "cell_type": "code",
   "execution_count": 14,
   "metadata": {},
   "outputs": [
    {
     "name": "stdout",
     "output_type": "stream",
     "text": [
      "Collecting pyemotiv\n"
     ]
    },
    {
     "name": "stderr",
     "output_type": "stream",
     "text": [
      "  Could not find a version that satisfies the requirement pyemotiv (from versions: )\n",
      "No matching distribution found for pyemotiv\n"
     ]
    }
   ],
   "source": [
    "!pip install pyemotiv"
   ]
  },
  {
   "cell_type": "code",
   "execution_count": null,
   "metadata": {},
   "outputs": [],
   "source": []
  }
 ],
 "metadata": {
  "kernelspec": {
   "display_name": "Python 3",
   "language": "python",
   "name": "python3"
  },
  "language_info": {
   "codemirror_mode": {
    "name": "ipython",
    "version": 3
   },
   "file_extension": ".py",
   "mimetype": "text/x-python",
   "name": "python",
   "nbconvert_exporter": "python",
   "pygments_lexer": "ipython3",
   "version": "3.7.3"
  }
 },
 "nbformat": 4,
 "nbformat_minor": 2
}
