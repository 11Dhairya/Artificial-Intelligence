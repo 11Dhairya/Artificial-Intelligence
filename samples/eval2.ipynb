{
 "cells": [
  {
   "cell_type": "code",
   "execution_count": 10,
   "metadata": {},
   "outputs": [],
   "source": [
    "domain = [\"astar\", \"happy\", \"hello\", \n",
    "          \"hoses\", \"live\", \"load\", \n",
    "          \"loom\", \"peal\", \"peel\", \n",
    "          \"save\", \"talk\", \"ant\", \n",
    "          \"oak\", \"old\"]\n",
    "\n",
    "no_vars = 4\n",
    "# variables\n",
    "# word 1 -> across\n",
    "# word 2 -> down\n",
    "# word 3 -> down\n",
    "# word 4 -> across\n",
    "\n",
    "\n",
    "# permutation\n",
    "# w1, w2, w3, w4"
   ]
  },
  {
   "cell_type": "code",
   "execution_count": 14,
   "metadata": {},
   "outputs": [
    {
     "name": "stdout",
     "output_type": "stream",
     "text": [
      "1 \n",
      "\n",
      "2 \n",
      "\n",
      "3 \n",
      "\n",
      "4 \n",
      "\n"
     ]
    }
   ],
   "source": [
    "d = {}\n",
    "\n",
    "for i in range(no_vars):\n",
    "    d.update({i+1 : domain})\n",
    "\n",
    "for i in d:\n",
    "    print(i, \"\\n\")\n",
    "    \n",
    "l1 = 5\n",
    "l2 = 4\n",
    "l3 = 3\n",
    "l4 = 4\n",
    "\n",
    "def mrv():\n",
    "    for i range(no_vars):\n",
    "        temp = d.get(i+1)\n",
    "        for j in temp:\n",
    "            if i+1 == 1:\n",
    "                if len(j) != 5:\n",
    "                    temp.remove(j)\n",
    "            if i+1 == 2:\n",
    "            "
   ]
  },
  {
   "cell_type": "code",
   "execution_count": null,
   "metadata": {},
   "outputs": [],
   "source": []
  },
  {
   "cell_type": "code",
   "execution_count": 15,
   "metadata": {},
   "outputs": [],
   "source": [
    "def check_constraints(perm):\n",
    "    w1,w2,w3,w4 = perm[0],perm[1],perm[2],perm[3]\n",
    "    if len(w1) != 5 or \\\n",
    "        len(w2) != 4 or \\\n",
    "        len(w3) != 3 or \\\n",
    "        len(w4) !=4:\n",
    "        return False\n",
    "    \n",
    "    if w1[2] != w2[0] or w1[4] != w3[0]:\n",
    "        return False\n",
    "    \n",
    "    if w2[2] != w4[1] or w3[2] != w4[3]:\n",
    "        return False\n",
    "    \n",
    "    res.append(perm)\n",
    "    return True"
   ]
  },
  {
   "cell_type": "code",
   "execution_count": 16,
   "metadata": {},
   "outputs": [
    {
     "name": "stdout",
     "output_type": "stream",
     "text": [
      "Result:  ['hello', 'load', 'oak', 'talk']\n",
      "Result:  ['hello', 'loom', 'old', 'load']\n"
     ]
    }
   ],
   "source": [
    "length = 4\n",
    "res = []\n",
    "\n",
    "def backtrack(perm, domain):\n",
    "    \n",
    "    if len(perm) == length:\n",
    "        if check_constraints(perm.copy()):\n",
    "            print(\"Result: \", perm)\n",
    "        return\n",
    "   \n",
    "    for i in domain:\n",
    "        perm.append(i)\n",
    "        temp = domain.copy()\n",
    "        temp.remove(i)\n",
    "        backtrack(perm.copy(), temp)\n",
    "        perm.pop(-1)\n",
    "\n",
    "    \n",
    "# main\n",
    "backtrack([], domain)"
   ]
  },
  {
   "cell_type": "code",
   "execution_count": null,
   "metadata": {},
   "outputs": [],
   "source": []
  }
 ],
 "metadata": {
  "kernelspec": {
   "display_name": "Python 3",
   "language": "python",
   "name": "python3"
  },
  "language_info": {
   "codemirror_mode": {
    "name": "ipython",
    "version": 3
   },
   "file_extension": ".py",
   "mimetype": "text/x-python",
   "name": "python",
   "nbconvert_exporter": "python",
   "pygments_lexer": "ipython3",
   "version": "3.7.3"
  }
 },
 "nbformat": 4,
 "nbformat_minor": 2
}
